{
 "cells": [
  {
   "cell_type": "code",
   "execution_count": 1,
   "id": "606b5735",
   "metadata": {},
   "outputs": [],
   "source": [
    "file = open('Words1.txt','r')"
   ]
  },
  {
   "cell_type": "code",
   "execution_count": 2,
   "id": "c58bb3bb",
   "metadata": {},
   "outputs": [],
   "source": [
    "words_data = file.readlines()"
   ]
  },
  {
   "cell_type": "code",
   "execution_count": 3,
   "id": "2adb2d18",
   "metadata": {},
   "outputs": [
    {
     "data": {
      "text/plain": [
       "['The cat sat on the mat\\n',\n",
       " 'The dog ate my homework\\n',\n",
       " 'I will go to the beach tomorrow\\n',\n",
       " 'The sun is shining today\\n',\n",
       " 'The sky is blue\\n',\n",
       " 'I love eating pizza\\n',\n",
       " 'The movie was great\\n',\n",
       " 'I am going to the gym\\n',\n",
       " 'The book was interesting\\n',\n",
       " 'I am learning how to code\\n',\n",
       " 'The weather is nice today\\n',\n",
       " 'I am going to the park\\n',\n",
       " 'The car is red\\n',\n",
       " 'I am drinking coffee right now\\n',\n",
       " 'The music is loud\\n',\n",
       " 'I am watching TV\\n',\n",
       " 'The phone is ringing\\n',\n",
       " 'I am listening to music\\n',\n",
       " 'The food was delicious\\n',\n",
       " 'I am going to the store']"
      ]
     },
     "execution_count": 3,
     "metadata": {},
     "output_type": "execute_result"
    }
   ],
   "source": [
    "words_data "
   ]
  },
  {
   "cell_type": "code",
   "execution_count": 4,
   "id": "5dc0914e",
   "metadata": {},
   "outputs": [],
   "source": [
    "file.close()"
   ]
  },
  {
   "cell_type": "code",
   "execution_count": 5,
   "id": "0a2e5c89",
   "metadata": {},
   "outputs": [],
   "source": [
    "for i in range(len(words_data)):\n",
    "    words_data[i] = words_data[i].lower().replace('\\n','')\n",
    "    "
   ]
  },
  {
   "cell_type": "code",
   "execution_count": 6,
   "id": "d65775b5",
   "metadata": {},
   "outputs": [
    {
     "data": {
      "text/plain": [
       "['the cat sat on the mat',\n",
       " 'the dog ate my homework',\n",
       " 'i will go to the beach tomorrow',\n",
       " 'the sun is shining today',\n",
       " 'the sky is blue',\n",
       " 'i love eating pizza',\n",
       " 'the movie was great',\n",
       " 'i am going to the gym',\n",
       " 'the book was interesting',\n",
       " 'i am learning how to code',\n",
       " 'the weather is nice today',\n",
       " 'i am going to the park',\n",
       " 'the car is red',\n",
       " 'i am drinking coffee right now',\n",
       " 'the music is loud',\n",
       " 'i am watching tv',\n",
       " 'the phone is ringing',\n",
       " 'i am listening to music',\n",
       " 'the food was delicious',\n",
       " 'i am going to the store']"
      ]
     },
     "execution_count": 6,
     "metadata": {},
     "output_type": "execute_result"
    }
   ],
   "source": [
    "words_data"
   ]
  },
  {
   "cell_type": "code",
   "execution_count": 7,
   "id": "8921b89c",
   "metadata": {},
   "outputs": [
    {
     "name": "stdout",
     "output_type": "stream",
     "text": [
      "[['cat', 'sat', 'mat'], ['dog', 'ate', 'homework'], ['beach'], ['sun', 'shining'], ['sky', 'blue'], ['eating', 'pizza'], ['was'], ['gym'], ['was'], [], ['weather', 'nice'], ['park'], ['red'], ['drinking', 'coffee', 'right', 'now'], ['music', 'loud'], ['watching', 'tv'], ['phone', 'ringing'], ['listening', 'music'], ['food', 'was', 'delicious'], ['store']]\n"
     ]
    }
   ],
   "source": [
    "stopwords = ['the','on','my','i','will','go','to',\n",
    "             'tomorrow','is','today','love','movie',\n",
    "            'great','am','going','book','interesting',\n",
    "            'learning','how','code','car','right'\n",
    "            'now']\n",
    "\n",
    "filtered_data = []\n",
    "for sent in words_data:\n",
    "    temp = []\n",
    "    for word in sent.split():\n",
    "        if word not in stopwords:\n",
    "            temp.append(word)\n",
    "    filtered_data.append(temp)\n",
    "\n",
    "print(filtered_data)"
   ]
  },
  {
   "cell_type": "code",
   "execution_count": 8,
   "id": "6b009926",
   "metadata": {},
   "outputs": [
    {
     "name": "stdout",
     "output_type": "stream",
     "text": [
      "[['cat', 'sat'], ['sat', 'cat'], ['cat', 'mat'], ['mat', 'cat'], ['sat', 'mat'], ['mat', 'sat'], ['dog', 'ate'], ['ate', 'dog'], ['dog', 'homework'], ['homework', 'dog'], ['ate', 'homework'], ['homework', 'ate'], ['sun', 'shining'], ['shining', 'sun'], ['sky', 'blue'], ['blue', 'sky'], ['eating', 'pizza'], ['pizza', 'eating'], ['weather', 'nice'], ['nice', 'weather'], ['drinking', 'coffee'], ['coffee', 'drinking'], ['drinking', 'right'], ['right', 'drinking'], ['drinking', 'now'], ['now', 'drinking'], ['coffee', 'right'], ['right', 'coffee'], ['coffee', 'now'], ['now', 'coffee'], ['right', 'now'], ['now', 'right'], ['music', 'loud'], ['loud', 'music'], ['watching', 'tv'], ['tv', 'watching'], ['phone', 'ringing'], ['ringing', 'phone'], ['listening', 'music'], ['music', 'listening'], ['food', 'was'], ['was', 'food'], ['food', 'delicious'], ['delicious', 'food'], ['was', 'delicious'], ['delicious', 'was']]\n"
     ]
    }
   ],
   "source": [
    "bigrams = []\n",
    "for words_list in filtered_data:\n",
    "    for i in range(len(words_list) - 1):\n",
    "        for j in range(i+1, len(words_list)):\n",
    "            bigrams.append([words_list[i], words_list[j]])\n",
    "            bigrams.append([words_list[j], words_list[i]])\n",
    "            \n",
    "\n",
    "print(bigrams)"
   ]
  },
  {
   "cell_type": "code",
   "execution_count": 11,
   "id": "663b9026",
   "metadata": {},
   "outputs": [
    {
     "name": "stdout",
     "output_type": "stream",
     "text": [
      "[['cat', 'sat'], ['sat', 'cat'], ['cat', 'mat'], ['mat', 'cat'], ['sat', 'mat'], ['mat', 'sat'], ['dog', 'ate'], ['ate', 'dog'], ['dog', 'homework'], ['homework', 'dog'], ['ate', 'homework'], ['homework', 'ate'], ['sun', 'shining'], ['shining', 'sun'], ['sky', 'blue'], ['blue', 'sky'], ['eating', 'pizza'], ['pizza', 'eating'], ['weather', 'nice'], ['nice', 'weather'], ['drinking', 'coffee'], ['coffee', 'drinking'], ['drinking', 'right'], ['right', 'drinking'], ['drinking', 'now'], ['now', 'drinking'], ['coffee', 'right'], ['right', 'coffee'], ['coffee', 'now'], ['now', 'coffee'], ['right', 'now'], ['now', 'right'], ['music', 'loud'], ['loud', 'music'], ['watching', 'tv'], ['tv', 'watching'], ['phone', 'ringing'], ['ringing', 'phone'], ['listening', 'music'], ['music', 'listening'], ['food', 'was'], ['was', 'food'], ['food', 'delicious'], ['delicious', 'food'], ['was', 'delicious'], ['delicious', 'was']]\n"
     ]
    }
   ],
   "source": [
    "bigrams = []\n",
    "for words_list in filtered_data:\n",
    "    for i in range(len(words_list) - 1):\n",
    "        for j in range(i+1, len(words_list)):\n",
    "            bigrams.append([words_list[i], words_list[j]])\n",
    "            bigrams.append([words_list[j], words_list[i]])\n",
    "            \n",
    "\n",
    "print(bigrams)"
   ]
  },
  {
   "cell_type": "code",
   "execution_count": 12,
   "id": "8fd21179",
   "metadata": {},
   "outputs": [
    {
     "name": "stdout",
     "output_type": "stream",
     "text": [
      "['ate', 'blue', 'cat', 'coffee', 'delicious', 'dog', 'drinking', 'eating', 'food', 'homework', 'listening', 'loud', 'mat', 'music', 'nice', 'now', 'phone', 'pizza', 'right', 'ringing', 'sat', 'shining', 'sky', 'sun', 'tv', 'was', 'watching', 'weather']\n",
      "Total number of unique words are: 28\n"
     ]
    }
   ],
   "source": [
    "all_words = []\n",
    "for bi in bigrams:\n",
    "    all_words.extend(bi)\n",
    "\n",
    "all_words = list(set(all_words))\n",
    "all_words.sort()\n",
    "\n",
    "print(all_words)\n",
    "print(\"Total number of unique words are:\", len(all_words))"
   ]
  },
  {
   "cell_type": "code",
   "execution_count": 13,
   "id": "ba7eb636",
   "metadata": {},
   "outputs": [
    {
     "name": "stdout",
     "output_type": "stream",
     "text": [
      "{'ate': 0, 'blue': 1, 'cat': 2, 'coffee': 3, 'delicious': 4, 'dog': 5, 'drinking': 6, 'eating': 7, 'food': 8, 'homework': 9, 'listening': 10, 'loud': 11, 'mat': 12, 'music': 13, 'nice': 14, 'now': 15, 'phone': 16, 'pizza': 17, 'right': 18, 'ringing': 19, 'sat': 20, 'shining': 21, 'sky': 22, 'sun': 23, 'tv': 24, 'was': 25, 'watching': 26, 'weather': 27}\n"
     ]
    }
   ],
   "source": [
    "words_dict = {}\n",
    "\n",
    "counter = 0\n",
    "for word in all_words:\n",
    "    words_dict[word] = counter\n",
    "    counter += 1\n",
    "\n",
    "print(words_dict)"
   ]
  },
  {
   "cell_type": "code",
   "execution_count": 14,
   "id": "d0113424",
   "metadata": {},
   "outputs": [
    {
     "name": "stdout",
     "output_type": "stream",
     "text": [
      "ate : [1. 0. 0. 0. 0. 0. 0. 0. 0. 0. 0. 0. 0. 0. 0. 0. 0. 0. 0. 0. 0. 0. 0. 0.\n",
      " 0. 0. 0. 0.]\n",
      "blue : [0. 1. 0. 0. 0. 0. 0. 0. 0. 0. 0. 0. 0. 0. 0. 0. 0. 0. 0. 0. 0. 0. 0. 0.\n",
      " 0. 0. 0. 0.]\n",
      "cat : [0. 0. 1. 0. 0. 0. 0. 0. 0. 0. 0. 0. 0. 0. 0. 0. 0. 0. 0. 0. 0. 0. 0. 0.\n",
      " 0. 0. 0. 0.]\n",
      "coffee : [0. 0. 0. 1. 0. 0. 0. 0. 0. 0. 0. 0. 0. 0. 0. 0. 0. 0. 0. 0. 0. 0. 0. 0.\n",
      " 0. 0. 0. 0.]\n",
      "delicious : [0. 0. 0. 0. 1. 0. 0. 0. 0. 0. 0. 0. 0. 0. 0. 0. 0. 0. 0. 0. 0. 0. 0. 0.\n",
      " 0. 0. 0. 0.]\n",
      "dog : [0. 0. 0. 0. 0. 1. 0. 0. 0. 0. 0. 0. 0. 0. 0. 0. 0. 0. 0. 0. 0. 0. 0. 0.\n",
      " 0. 0. 0. 0.]\n",
      "drinking : [0. 0. 0. 0. 0. 0. 1. 0. 0. 0. 0. 0. 0. 0. 0. 0. 0. 0. 0. 0. 0. 0. 0. 0.\n",
      " 0. 0. 0. 0.]\n",
      "eating : [0. 0. 0. 0. 0. 0. 0. 1. 0. 0. 0. 0. 0. 0. 0. 0. 0. 0. 0. 0. 0. 0. 0. 0.\n",
      " 0. 0. 0. 0.]\n",
      "food : [0. 0. 0. 0. 0. 0. 0. 0. 1. 0. 0. 0. 0. 0. 0. 0. 0. 0. 0. 0. 0. 0. 0. 0.\n",
      " 0. 0. 0. 0.]\n",
      "homework : [0. 0. 0. 0. 0. 0. 0. 0. 0. 1. 0. 0. 0. 0. 0. 0. 0. 0. 0. 0. 0. 0. 0. 0.\n",
      " 0. 0. 0. 0.]\n",
      "listening : [0. 0. 0. 0. 0. 0. 0. 0. 0. 0. 1. 0. 0. 0. 0. 0. 0. 0. 0. 0. 0. 0. 0. 0.\n",
      " 0. 0. 0. 0.]\n",
      "loud : [0. 0. 0. 0. 0. 0. 0. 0. 0. 0. 0. 1. 0. 0. 0. 0. 0. 0. 0. 0. 0. 0. 0. 0.\n",
      " 0. 0. 0. 0.]\n",
      "mat : [0. 0. 0. 0. 0. 0. 0. 0. 0. 0. 0. 0. 1. 0. 0. 0. 0. 0. 0. 0. 0. 0. 0. 0.\n",
      " 0. 0. 0. 0.]\n",
      "music : [0. 0. 0. 0. 0. 0. 0. 0. 0. 0. 0. 0. 0. 1. 0. 0. 0. 0. 0. 0. 0. 0. 0. 0.\n",
      " 0. 0. 0. 0.]\n",
      "nice : [0. 0. 0. 0. 0. 0. 0. 0. 0. 0. 0. 0. 0. 0. 1. 0. 0. 0. 0. 0. 0. 0. 0. 0.\n",
      " 0. 0. 0. 0.]\n",
      "now : [0. 0. 0. 0. 0. 0. 0. 0. 0. 0. 0. 0. 0. 0. 0. 1. 0. 0. 0. 0. 0. 0. 0. 0.\n",
      " 0. 0. 0. 0.]\n",
      "phone : [0. 0. 0. 0. 0. 0. 0. 0. 0. 0. 0. 0. 0. 0. 0. 0. 1. 0. 0. 0. 0. 0. 0. 0.\n",
      " 0. 0. 0. 0.]\n",
      "pizza : [0. 0. 0. 0. 0. 0. 0. 0. 0. 0. 0. 0. 0. 0. 0. 0. 0. 1. 0. 0. 0. 0. 0. 0.\n",
      " 0. 0. 0. 0.]\n",
      "right : [0. 0. 0. 0. 0. 0. 0. 0. 0. 0. 0. 0. 0. 0. 0. 0. 0. 0. 1. 0. 0. 0. 0. 0.\n",
      " 0. 0. 0. 0.]\n",
      "ringing : [0. 0. 0. 0. 0. 0. 0. 0. 0. 0. 0. 0. 0. 0. 0. 0. 0. 0. 0. 1. 0. 0. 0. 0.\n",
      " 0. 0. 0. 0.]\n",
      "sat : [0. 0. 0. 0. 0. 0. 0. 0. 0. 0. 0. 0. 0. 0. 0. 0. 0. 0. 0. 0. 1. 0. 0. 0.\n",
      " 0. 0. 0. 0.]\n",
      "shining : [0. 0. 0. 0. 0. 0. 0. 0. 0. 0. 0. 0. 0. 0. 0. 0. 0. 0. 0. 0. 0. 1. 0. 0.\n",
      " 0. 0. 0. 0.]\n",
      "sky : [0. 0. 0. 0. 0. 0. 0. 0. 0. 0. 0. 0. 0. 0. 0. 0. 0. 0. 0. 0. 0. 0. 1. 0.\n",
      " 0. 0. 0. 0.]\n",
      "sun : [0. 0. 0. 0. 0. 0. 0. 0. 0. 0. 0. 0. 0. 0. 0. 0. 0. 0. 0. 0. 0. 0. 0. 1.\n",
      " 0. 0. 0. 0.]\n",
      "tv : [0. 0. 0. 0. 0. 0. 0. 0. 0. 0. 0. 0. 0. 0. 0. 0. 0. 0. 0. 0. 0. 0. 0. 0.\n",
      " 1. 0. 0. 0.]\n",
      "was : [0. 0. 0. 0. 0. 0. 0. 0. 0. 0. 0. 0. 0. 0. 0. 0. 0. 0. 0. 0. 0. 0. 0. 0.\n",
      " 0. 1. 0. 0.]\n",
      "watching : [0. 0. 0. 0. 0. 0. 0. 0. 0. 0. 0. 0. 0. 0. 0. 0. 0. 0. 0. 0. 0. 0. 0. 0.\n",
      " 0. 0. 1. 0.]\n",
      "weather : [0. 0. 0. 0. 0. 0. 0. 0. 0. 0. 0. 0. 0. 0. 0. 0. 0. 0. 0. 0. 0. 0. 0. 0.\n",
      " 0. 0. 0. 1.]\n"
     ]
    }
   ],
   "source": [
    "import numpy as np\n",
    "\n",
    "onehot_data = np.zeros((len(all_words), len(all_words)))\n",
    "\n",
    "for i in range(len(all_words)):\n",
    "    onehot_data[i][i] = 1\n",
    "\n",
    "onehot_dict = {}\n",
    "counter = 0\n",
    "for word in all_words:\n",
    "    onehot_dict[word] = onehot_data[counter]\n",
    "    counter += 1\n",
    "\n",
    "for word in onehot_dict:\n",
    "    print(word, \":\", onehot_dict[word])"
   ]
  },
  {
   "cell_type": "code",
   "execution_count": 15,
   "id": "d734a249",
   "metadata": {},
   "outputs": [],
   "source": [
    "X = []\n",
    "Y = []\n",
    "\n",
    "for bi in bigrams:\n",
    "    X.append(onehot_dict[bi[0]])\n",
    "    Y.append(onehot_dict[bi[1]])\n",
    "    \n",
    "X = np.array(X)\n",
    "Y = np.array(Y)"
   ]
  },
  {
   "cell_type": "code",
   "execution_count": 16,
   "id": "c0b2d3ae",
   "metadata": {},
   "outputs": [],
   "source": [
    "from keras.models import Sequential\n",
    "from keras.layers import Dense\n",
    "\n",
    "embed_size = 2\n",
    "\n",
    "model = Sequential([\n",
    "    Dense(embed_size, activation='linear'),\n",
    "    Dense(Y.shape[1], activation = 'softmax')\n",
    "])\n",
    "\n",
    "model.compile(loss = 'categorical_crossentropy', optimizer = 'adam')"
   ]
  },
  {
   "cell_type": "code",
   "execution_count": 17,
   "id": "c2681288",
   "metadata": {},
   "outputs": [
    {
     "data": {
      "text/plain": [
       "<keras.src.callbacks.History at 0x2737c84a790>"
      ]
     },
     "execution_count": 17,
     "metadata": {},
     "output_type": "execute_result"
    }
   ],
   "source": [
    "model.fit(X, Y, epochs = 1000, batch_size = 256, verbose = False)\n"
   ]
  },
  {
   "cell_type": "code",
   "execution_count": 18,
   "id": "1e220271",
   "metadata": {},
   "outputs": [],
   "source": [
    "weights = model.get_weights()[0]\n",
    "\n",
    "word_embeddings = {}\n",
    "for word in all_words:\n",
    "    word_embeddings[word] = weights[words_dict[word]]\n",
    "\n",
    "#print(word_embeddings)"
   ]
  },
  {
   "cell_type": "code",
   "execution_count": 19,
   "id": "e94bf858",
   "metadata": {},
   "outputs": [
    {
     "data": {
      "image/png": "[encoded data removed]",
      "text/plain": [
       "<Figure size 640x480 with 1 Axes>"
      ]
     },
     "metadata": {},
     "output_type": "display_data"
    }
   ],
   "source": [
    "import matplotlib.pyplot as plt\n",
    "\n",
    "# plt.figure(figsize = (10, 10))\n",
    "for word in list(words_dict.keys()):\n",
    "    coord = word_embeddings.get(word)\n",
    "    plt.scatter(coord[0], coord[1])\n",
    "    plt.annotate(word, (coord[0], coord[1]))\n",
    "\n",
    "plt.savefig('RNN Words.jpg')"
   ]
  },
  {
   "cell_type": "code",
   "execution_count": null,
   "id": "fcada2c6",
   "metadata": {},
   "outputs": [],
   "source": []
  }
 ],
 "metadata": {
  "kernelspec": {
   "display_name": "Python 3 (ipykernel)",
   "language": "python",
   "name": "python3"
  },
  "language_info": {
   "codemirror_mode": {
    "name": "ipython",
    "version": 3
   },
   "file_extension": ".py",
   "mimetype": "text/x-python",
   "name": "python",
   "nbconvert_exporter": "python",
   "pygments_lexer": "ipython3",
   "version": "3.11.3"
  }
 },
 "nbformat": 4,
 "nbformat_minor": 5
}
